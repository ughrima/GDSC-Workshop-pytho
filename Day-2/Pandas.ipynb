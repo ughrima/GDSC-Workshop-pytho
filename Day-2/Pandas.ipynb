{
  "cells": [
    {
      "cell_type": "markdown",
      "metadata": {
        "id": "YDf8N4v6yfv2"
      },
      "source": [
        "# **Pandas**\n",
        "\n",
        "1. Library: Pandas is a Python library for data manipulation and analysis.\n",
        "\n",
        "2. DataFrame and Series: Core data structures are DataFrame for tabular data and Series for one-dimensional labeled data.\n",
        "\n",
        "3. Data Handling: Facilitates data cleaning, exploration, and manipulation with a rich set of functions.\n",
        "\n",
        "4. Indexing and Selection: Powerful indexing and selection capabilities for accessing and modifying data.\n",
        "\n",
        "5. Integration with Other Libraries: Seamless integration with other libraries like NumPy, making it a key tool in data science workflows."
      ]
    },
    {
      "cell_type": "markdown",
      "metadata": {
        "id": "oWq-8XOLzARY"
      },
      "source": [
        "**Creation, Aliases and Dataframes**"
      ]
    },
    {
      "cell_type": "code",
      "execution_count": 1,
      "metadata": {},
      "outputs": [
        {
          "name": "stdout",
          "output_type": "stream",
          "text": [
            "  name  class\n",
            "0    A      4\n",
            "1    B      5\n",
            "2    C      6\n"
          ]
        }
      ],
      "source": [
        "import pandas as pd \n",
        "data={'name':[\"A\",\"B\",\"C\"],\n",
        "      \"class\":[4,5,6]}\n",
        "new=pd.DataFrame(data)\n",
        "print(new)"
      ]
    },
    {
      "cell_type": "markdown",
      "metadata": {
        "id": "W2aSalBTy9aF"
      },
      "source": [
        "**Series**"
      ]
    },
    {
      "cell_type": "code",
      "execution_count": 2,
      "metadata": {},
      "outputs": [
        {
          "name": "stdout",
          "output_type": "stream",
          "text": [
            "0    A\n",
            "1    B\n",
            "2    C\n",
            "dtype: object\n"
          ]
        }
      ],
      "source": [
        "import pandas as pd \n",
        "data=[\"A\",\"B\",\"C\"]\n",
        "new=pd.Series(data)\n",
        "print(new)"
      ]
    },
    {
      "cell_type": "markdown",
      "metadata": {
        "id": "FHYUqEVezQOm"
      },
      "source": [
        "**Key Value Pair**"
      ]
    },
    {
      "cell_type": "code",
      "execution_count": 6,
      "metadata": {},
      "outputs": [
        {
          "name": "stdout",
          "output_type": "stream",
          "text": [
            "a    8\n",
            "b    5\n",
            "c    7\n",
            "dtype: int64\n",
            "a    8\n",
            "b    5\n",
            "dtype: int64\n"
          ]
        }
      ],
      "source": [
        "import pandas as pd\n",
        "student={'a':8,\"b\":5,\"c\":7}\n",
        "new=pd.Series(student)\n",
        "print(new)\n",
        "new2=pd.Series(student,index=[\"a\",\"b\"])\n",
        "print(new2)"
      ]
    },
    {
      "cell_type": "markdown",
      "metadata": {},
      "source": [
        "**Labels**"
      ]
    },
    {
      "cell_type": "code",
      "execution_count": 10,
      "metadata": {},
      "outputs": [
        {
          "name": "stdout",
          "output_type": "stream",
          "text": [
            "1    A\n",
            "2    B\n",
            "3    C\n",
            "dtype: object\n",
            "A\n"
          ]
        }
      ],
      "source": [
        "import pandas as pd \n",
        "data=[\"A\",\"B\",\"C\"]\n",
        "new=pd.Series(data,index=[1,2,3])\n",
        "print(new)\n",
        "print(new[1])"
      ]
    },
    {
      "cell_type": "markdown",
      "metadata": {},
      "source": [
        "**Modifying Dataframes**"
      ]
    },
    {
      "cell_type": "code",
      "execution_count": 12,
      "metadata": {},
      "outputs": [
        {
          "name": "stdout",
          "output_type": "stream",
          "text": [
            "  name  class\n",
            "0    a      4\n",
            "1    b      5\n",
            "2    c      6\n"
          ]
        }
      ],
      "source": [
        "import pandas as pd \n",
        "data={'name':[\"A\",\"B\",\"C\"],\n",
        "      \"class\":[4,5,6]}\n",
        "# new=pd.DataFrame(data)\n",
        "data[\"name\"]=[\"a\",\"b\",\"c\"]\n",
        "print(pd.DataFrame(data))"
      ]
    },
    {
      "cell_type": "markdown",
      "metadata": {},
      "source": [
        "**Selecting specific Columns**"
      ]
    },
    {
      "cell_type": "code",
      "execution_count": 12,
      "metadata": {},
      "outputs": [
        {
          "name": "stdout",
          "output_type": "stream",
          "text": [
            "Selected Data:\n",
            "  people  number\n",
            "2      C       2\n"
          ]
        }
      ],
      "source": [
        "import pandas as pd\n",
        "\n",
        "df = {\n",
        "  'people': [\"A\", \"B\", \"C\"],\n",
        "  'number': [3, 7, 2],\n",
        "  'Occupation':['Engineer', 'Designer', 'Developer']\n",
        "}\n",
        "df = pd.DataFrame(df)\n",
        "#loc - label-based indexer in Pandas, used for selecting data by labels \n",
        "selected_data = df.loc[df['Occupation'] == 'Developer', ['people', 'number']]\n",
        "\n",
        "print(\"Selected Data:\")\n",
        "print(selected_data)\n",
        "#we're selecting individuals with the occupation 'Developer' and displaying their names and ages."
      ]
    }
  ],
  "metadata": {
    "colab": {
      "provenance": []
    },
    "kernelspec": {
      "display_name": "Python 3",
      "name": "python3"
    },
    "language_info": {
      "codemirror_mode": {
        "name": "ipython",
        "version": 3
      },
      "file_extension": ".py",
      "mimetype": "text/x-python",
      "name": "python",
      "nbconvert_exporter": "python",
      "pygments_lexer": "ipython3",
      "version": "3.11.1"
    }
  },
  "nbformat": 4,
  "nbformat_minor": 0
}
