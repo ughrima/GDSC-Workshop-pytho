{
  "cells": [
    {
      "cell_type": "markdown",
      "metadata": {
        "id": "EvGigP14qu99"
      },
      "source": [
        "# Numpy\n",
        "\n",
        "\n",
        "1.   **Library**: Numpy is a Python library for numerical computing.\n",
        "2. **Arrays**: Core functionality revolves around multidimensional arrays\n",
        "3. **Mathematical Functions**: Offers a wide range of mathematical functions for array operations.\n",
        "4. **Efficiency:** Designed for efficiency in terms of both speed and memory usage\n",
        "5. **Data Science:** Widely used in data science, machine learning, and scientific research for numerical computations.\n",
        "\n",
        "\n",
        "\n",
        "\n",
        "\n",
        "\n",
        "\n",
        "**bold text**\n"
      ]
    },
    {
      "cell_type": "markdown",
      "metadata": {
        "id": "PZH6mYuAsQuQ"
      },
      "source": [
        "# Installation"
      ]
    },
    {
      "cell_type": "markdown",
      "metadata": {},
      "source": [
        "pip install numpy"
      ]
    },
    {
      "cell_type": "markdown",
      "metadata": {},
      "source": [
        "Creation of ndarry and aliases"
      ]
    },
    {
      "cell_type": "code",
      "execution_count": 2,
      "metadata": {},
      "outputs": [
        {
          "name": "stdout",
          "output_type": "stream",
          "text": [
            "[1]\n"
          ]
        }
      ],
      "source": [
        "import numpy \n",
        "arr=numpy.array([1]) \n",
        "print(arr)"
      ]
    },
    {
      "cell_type": "markdown",
      "metadata": {
        "id": "dkbbN9TuvBUS"
      },
      "source": [
        "**2-D Array**"
      ]
    },
    {
      "cell_type": "code",
      "execution_count": 9,
      "metadata": {},
      "outputs": [
        {
          "name": "stdout",
          "output_type": "stream",
          "text": [
            "[[1 2 3]\n",
            " [4 5 6]]\n",
            "(2, 3)\n"
          ]
        }
      ],
      "source": [
        "import numpy \n",
        "arr=numpy.array([[1,2,3],[4,5,6]]) \n",
        "print(arr)\n",
        "print(arr.shape)"
      ]
    },
    {
      "cell_type": "markdown",
      "metadata": {
        "id": "a3gZ0MLBvGkD"
      },
      "source": [
        "**3-D Array**"
      ]
    },
    {
      "cell_type": "code",
      "execution_count": 10,
      "metadata": {},
      "outputs": [
        {
          "name": "stdout",
          "output_type": "stream",
          "text": [
            "[[[1 2 3]\n",
            "  [4 5 6]]\n",
            "\n",
            " [[1 2 3]\n",
            "  [4 5 6]]]\n",
            "(2, 2, 3)\n",
            "3\n"
          ]
        }
      ],
      "source": [
        "import numpy \n",
        "arr=numpy.array([[[1,2,3],[4,5,6]],[[1,2,3],[4,5,6]]]) \n",
        "print(arr)\n",
        "print(arr.shape)\n",
        "print(arr.ndim)"
      ]
    },
    {
      "cell_type": "code",
      "execution_count": 7,
      "metadata": {},
      "outputs": [
        {
          "name": "stdout",
          "output_type": "stream",
          "text": [
            "[[0. 0. 0.]\n",
            " [0. 0. 0.]\n",
            " [0. 0. 0.]]\n",
            "<class 'numpy.ndarray'>\n"
          ]
        }
      ],
      "source": [
        "#zero array\n",
        "import numpy as np \n",
        "arr=np.zeros((3,3))\n",
        "print(arr)\n",
        "print(type(arr))\n"
      ]
    },
    {
      "cell_type": "markdown",
      "metadata": {
        "id": "zRlsJ_a-xY8G"
      },
      "source": [
        "**Shape of an Array**"
      ]
    },
    {
      "cell_type": "code",
      "execution_count": null,
      "metadata": {},
      "outputs": [],
      "source": []
    },
    {
      "cell_type": "markdown",
      "metadata": {
        "id": "qocEgsluvRLt"
      },
      "source": [
        "**Checking Dimensions**"
      ]
    },
    {
      "cell_type": "code",
      "execution_count": null,
      "metadata": {},
      "outputs": [],
      "source": []
    },
    {
      "cell_type": "markdown",
      "metadata": {
        "id": "n1_MOr23uwMC"
      },
      "source": [
        "**Using tuple to create arrays**"
      ]
    },
    {
      "cell_type": "code",
      "execution_count": 11,
      "metadata": {},
      "outputs": [
        {
          "name": "stdout",
          "output_type": "stream",
          "text": [
            "[1 2 3 4 5]\n"
          ]
        }
      ],
      "source": [
        "import numpy as np\n",
        "arr=np.array((1,2,3,4,5))\n",
        "print(arr)"
      ]
    },
    {
      "cell_type": "markdown",
      "metadata": {
        "id": "WrZawFgauLgt"
      },
      "source": [
        "**Indexing of 1-D Array**"
      ]
    },
    {
      "cell_type": "code",
      "execution_count": 12,
      "metadata": {},
      "outputs": [
        {
          "name": "stdout",
          "output_type": "stream",
          "text": [
            "1\n",
            "5\n",
            "29\n",
            "4\n"
          ]
        }
      ],
      "source": [
        "import numpy as np\n",
        "arr=np.array([1,22,34,4,5,67,28,29])\n",
        "print(arr[0])\n",
        "print(arr[4])\n",
        "print(arr[-1])\n",
        "print(arr[-5])"
      ]
    },
    {
      "cell_type": "markdown",
      "metadata": {
        "id": "gt8BJmSJvjiv"
      },
      "source": [
        "**Indexing 2-D Array**"
      ]
    },
    {
      "cell_type": "code",
      "execution_count": 14,
      "metadata": {},
      "outputs": [
        {
          "name": "stdout",
          "output_type": "stream",
          "text": [
            "29\n"
          ]
        }
      ],
      "source": [
        "import numpy \n",
        "arr=numpy.array([[1,2,3,56,92,34],[4,5,6,95,29,29]]) \n",
        "print(arr[-1,4])"
      ]
    },
    {
      "cell_type": "markdown",
      "metadata": {
        "id": "Ky93QdyLwW7O"
      },
      "source": [
        "**Indexing 3-D Array**"
      ]
    },
    {
      "cell_type": "code",
      "execution_count": 16,
      "metadata": {},
      "outputs": [
        {
          "name": "stdout",
          "output_type": "stream",
          "text": [
            "4\n"
          ]
        }
      ],
      "source": [
        "import numpy \n",
        "arr=numpy.array([[[1,2,3],[4,5,6]],[[1,2,3],[4,5,6]]]) \n",
        "print(arr[1,1,0])"
      ]
    },
    {
      "cell_type": "markdown",
      "metadata": {
        "id": "aiqCewHUwiRS"
      },
      "source": [
        "**Negative Indexing**"
      ]
    },
    {
      "cell_type": "markdown",
      "metadata": {
        "id": "QqlWT5gls9GN"
      },
      "source": [
        "**Slicing**\n",
        "      \n",
        "            0,1,2,3,4\n",
        "           -5,-4,-3,-2,-1"
      ]
    },
    {
      "cell_type": "code",
      "execution_count": 21,
      "metadata": {},
      "outputs": [
        {
          "name": "stdout",
          "output_type": "stream",
          "text": [
            "[22 34]\n",
            "[22 34  4  5]\n",
            "[ 1 22 34]\n",
            "[34  4  5 67 28 29]\n",
            "[ 5 67 28]\n",
            "[ 1 34  5 28]\n"
          ]
        }
      ],
      "source": [
        "import numpy as np\n",
        "arr=np.array([1,22,34,4,5,67,28,29])\n",
        "print(arr[1:3]) #start:end+1:step print->start to end\n",
        "print(arr[1:5])\n",
        "print(arr[:3])\n",
        "print(arr[2:])\n",
        "print(arr[-4:-1])\n",
        "print(arr[::2])"
      ]
    },
    {
      "cell_type": "markdown",
      "metadata": {
        "id": "rJ2TAUGvttWL"
      },
      "source": [
        "**Copying arrays**"
      ]
    },
    {
      "cell_type": "code",
      "execution_count": 26,
      "metadata": {},
      "outputs": [
        {
          "name": "stdout",
          "output_type": "stream",
          "text": [
            "[ 1 22 34  4  5 67 28 29]\n",
            "[ 3 22 34  4  5 67 28 29]\n",
            "[ 1 22 34  4  5 67 28 29]\n",
            "[ 5 22 34  4  5 67 28 29]\n",
            "[ 3 22 34  4  5 67 28 29]\n"
          ]
        }
      ],
      "source": [
        "import numpy as np\n",
        "arr=np.array([1,22,34,4,5,67,28,29])\n",
        "x=arr.copy()#copy doesnt change \n",
        "print(x)\n",
        "arr[0]=3\n",
        "print(arr)\n",
        "print(x)\n",
        "x[0]=5\n",
        "print(x)\n",
        "print(arr)"
      ]
    },
    {
      "cell_type": "markdown",
      "metadata": {
        "id": "t5ubAmkbxDDp"
      },
      "source": [
        "**View Array**"
      ]
    },
    {
      "cell_type": "code",
      "execution_count": 28,
      "metadata": {},
      "outputs": [
        {
          "name": "stdout",
          "output_type": "stream",
          "text": [
            "[ 1 22 34  4  5 67 28 29]\n",
            "[ 4 22 34  4  5 67 28 29]\n"
          ]
        }
      ],
      "source": [
        "import numpy as np\n",
        "arr=np.array([1,22,34,4,5,67,28,29])\n",
        "x=arr.view()\n",
        "print(x)\n",
        "arr[0]=4\n",
        "print(x)"
      ]
    },
    {
      "cell_type": "markdown",
      "metadata": {
        "id": "EvPHGYQLt2EL"
      },
      "source": [
        "**Join**"
      ]
    },
    {
      "cell_type": "code",
      "execution_count": 29,
      "metadata": {},
      "outputs": [
        {
          "name": "stdout",
          "output_type": "stream",
          "text": [
            "[ 1 22 34  4  6  7  8  9 10]\n"
          ]
        }
      ],
      "source": [
        "import numpy as np\n",
        "arr1=np.array([1,22,34,4])\n",
        "arr2=np.array([6,7,8,9,10])\n",
        "arr=np.concatenate((arr1,arr2))\n",
        "print(arr)"
      ]
    },
    {
      "cell_type": "markdown",
      "metadata": {
        "id": "09-kIQq3t8sM"
      },
      "source": [
        "**Split**"
      ]
    },
    {
      "cell_type": "code",
      "execution_count": 32,
      "metadata": {},
      "outputs": [
        {
          "name": "stdout",
          "output_type": "stream",
          "text": [
            "[array([ 1, 22]), array([34,  4]), array([ 5, 67]), array([28])]\n"
          ]
        }
      ],
      "source": [
        "import numpy as np\n",
        "arr=np.array([1,22,34,4,5,67,28])\n",
        "# newarr=np.array_split(arr,3)\n",
        "# print(newarr)\n",
        "newarr2=np.array_split(arr,4)\n",
        "print(newarr2)"
      ]
    },
    {
      "cell_type": "markdown",
      "metadata": {
        "id": "iclqEJb9uG-q"
      },
      "source": [
        "**Datatype**"
      ]
    },
    {
      "cell_type": "code",
      "execution_count": 35,
      "metadata": {},
      "outputs": [
        {
          "name": "stdout",
          "output_type": "stream",
          "text": [
            "float64\n"
          ]
        }
      ],
      "source": [
        "import numpy as np\n",
        "# arr=np.array([1,22,34,4,5,67,28])\n",
        "arr=np.array([1.0,3.0,4,5])\n",
        "print(arr.dtype)"
      ]
    },
    {
      "cell_type": "markdown",
      "metadata": {
        "id": "dQBcvZkHx3Lz"
      },
      "source": [
        "**Iterating**"
      ]
    },
    {
      "cell_type": "code",
      "execution_count": 40,
      "metadata": {},
      "outputs": [
        {
          "name": "stdout",
          "output_type": "stream",
          "text": [
            "1\n",
            "22\n",
            "34\n",
            "4\n",
            "5\n",
            "67\n",
            "28\n"
          ]
        }
      ],
      "source": [
        "import numpy as np\n",
        "arr=np.array([1,22,34,4,5,67,28])\n",
        "for i in arr:\n",
        "    print(i) "
      ]
    }
  ],
  "metadata": {
    "colab": {
      "provenance": []
    },
    "kernelspec": {
      "display_name": "Python 3",
      "name": "python3"
    },
    "language_info": {
      "codemirror_mode": {
        "name": "ipython",
        "version": 3
      },
      "file_extension": ".py",
      "mimetype": "text/x-python",
      "name": "python",
      "nbconvert_exporter": "python",
      "pygments_lexer": "ipython3",
      "version": "3.11.1"
    }
  },
  "nbformat": 4,
  "nbformat_minor": 0
}
